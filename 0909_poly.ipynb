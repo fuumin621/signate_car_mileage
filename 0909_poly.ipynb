{
 "cells": [
  {
   "cell_type": "code",
   "execution_count": 7,
   "metadata": {},
   "outputs": [],
   "source": [
    "import numpy as np\n",
    "import pandas as pd\n",
    "from sklearn.metrics import mean_absolute_error\n",
    "from sklearn import preprocessing\n",
    "import matplotlib.pyplot as plt\n",
    "import seaborn as sns"
   ]
  },
  {
   "cell_type": "code",
   "execution_count": 3,
   "metadata": {},
   "outputs": [],
   "source": [
    "train=pd.read_csv('train.tsv',delimiter='\\t')\n",
    "test=pd.read_csv('test.tsv',delimiter='\\t')"
   ]
  },
  {
   "cell_type": "code",
   "execution_count": 4,
   "metadata": {},
   "outputs": [
    {
     "name": "stderr",
     "output_type": "stream",
     "text": [
      "C:\\ProgramData\\Anaconda3\\lib\\site-packages\\pandas\\core\\frame.py:6211: FutureWarning: Sorting because non-concatenation axis is not aligned. A future version\n",
      "of pandas will change to not sort by default.\n",
      "\n",
      "To accept the future behavior, pass 'sort=False'.\n",
      "\n",
      "To retain the current behavior and silence the warning, pass 'sort=True'.\n",
      "\n",
      "  sort=sort)\n"
     ]
    }
   ],
   "source": [
    "df=train.append(test)"
   ]
  },
  {
   "cell_type": "code",
   "execution_count": 5,
   "metadata": {},
   "outputs": [
    {
     "data": {
      "text/html": [
       "<div>\n",
       "<style scoped>\n",
       "    .dataframe tbody tr th:only-of-type {\n",
       "        vertical-align: middle;\n",
       "    }\n",
       "\n",
       "    .dataframe tbody tr th {\n",
       "        vertical-align: top;\n",
       "    }\n",
       "\n",
       "    .dataframe thead th {\n",
       "        text-align: right;\n",
       "    }\n",
       "</style>\n",
       "<table border=\"1\" class=\"dataframe\">\n",
       "  <thead>\n",
       "    <tr style=\"text-align: right;\">\n",
       "      <th></th>\n",
       "      <th>acceleration</th>\n",
       "      <th>car name</th>\n",
       "      <th>cylinders</th>\n",
       "      <th>displacement</th>\n",
       "      <th>horsepower</th>\n",
       "      <th>id</th>\n",
       "      <th>model year</th>\n",
       "      <th>mpg</th>\n",
       "      <th>origin</th>\n",
       "      <th>weight</th>\n",
       "    </tr>\n",
       "  </thead>\n",
       "  <tbody>\n",
       "    <tr>\n",
       "      <th>0</th>\n",
       "      <td>16.0</td>\n",
       "      <td>dodge aries se</td>\n",
       "      <td>4</td>\n",
       "      <td>135.0</td>\n",
       "      <td>84.00</td>\n",
       "      <td>0</td>\n",
       "      <td>82</td>\n",
       "      <td>29.0</td>\n",
       "      <td>1</td>\n",
       "      <td>2525.0</td>\n",
       "    </tr>\n",
       "    <tr>\n",
       "      <th>1</th>\n",
       "      <td>14.0</td>\n",
       "      <td>vw rabbit custom</td>\n",
       "      <td>4</td>\n",
       "      <td>89.0</td>\n",
       "      <td>71.00</td>\n",
       "      <td>3</td>\n",
       "      <td>79</td>\n",
       "      <td>31.9</td>\n",
       "      <td>2</td>\n",
       "      <td>1925.0</td>\n",
       "    </tr>\n",
       "    <tr>\n",
       "      <th>2</th>\n",
       "      <td>15.5</td>\n",
       "      <td>toyota mark ii</td>\n",
       "      <td>6</td>\n",
       "      <td>156.0</td>\n",
       "      <td>108.0</td>\n",
       "      <td>9</td>\n",
       "      <td>76</td>\n",
       "      <td>19.0</td>\n",
       "      <td>3</td>\n",
       "      <td>2930.0</td>\n",
       "    </tr>\n",
       "    <tr>\n",
       "      <th>3</th>\n",
       "      <td>14.5</td>\n",
       "      <td>dodge colt</td>\n",
       "      <td>4</td>\n",
       "      <td>90.0</td>\n",
       "      <td>75.00</td>\n",
       "      <td>11</td>\n",
       "      <td>74</td>\n",
       "      <td>28.0</td>\n",
       "      <td>1</td>\n",
       "      <td>2125.0</td>\n",
       "    </tr>\n",
       "    <tr>\n",
       "      <th>4</th>\n",
       "      <td>17.3</td>\n",
       "      <td>toyota tercel</td>\n",
       "      <td>4</td>\n",
       "      <td>89.0</td>\n",
       "      <td>62.00</td>\n",
       "      <td>13</td>\n",
       "      <td>81</td>\n",
       "      <td>37.7</td>\n",
       "      <td>3</td>\n",
       "      <td>2050.0</td>\n",
       "    </tr>\n",
       "  </tbody>\n",
       "</table>\n",
       "</div>"
      ],
      "text/plain": [
       "   acceleration          car name  cylinders  displacement horsepower  id  \\\n",
       "0          16.0    dodge aries se          4         135.0      84.00   0   \n",
       "1          14.0  vw rabbit custom          4          89.0      71.00   3   \n",
       "2          15.5    toyota mark ii          6         156.0      108.0   9   \n",
       "3          14.5        dodge colt          4          90.0      75.00  11   \n",
       "4          17.3     toyota tercel          4          89.0      62.00  13   \n",
       "\n",
       "   model year   mpg  origin  weight  \n",
       "0          82  29.0       1  2525.0  \n",
       "1          79  31.9       2  1925.0  \n",
       "2          76  19.0       3  2930.0  \n",
       "3          74  28.0       1  2125.0  \n",
       "4          81  37.7       3  2050.0  "
      ]
     },
     "execution_count": 5,
     "metadata": {},
     "output_type": "execute_result"
    }
   ],
   "source": [
    "df.head()"
   ]
  },
  {
   "cell_type": "code",
   "execution_count": 6,
   "metadata": {},
   "outputs": [
    {
     "data": {
      "text/html": [
       "<div>\n",
       "<style scoped>\n",
       "    .dataframe tbody tr th:only-of-type {\n",
       "        vertical-align: middle;\n",
       "    }\n",
       "\n",
       "    .dataframe tbody tr th {\n",
       "        vertical-align: top;\n",
       "    }\n",
       "\n",
       "    .dataframe thead th {\n",
       "        text-align: right;\n",
       "    }\n",
       "</style>\n",
       "<table border=\"1\" class=\"dataframe\">\n",
       "  <thead>\n",
       "    <tr style=\"text-align: right;\">\n",
       "      <th></th>\n",
       "      <th>acceleration</th>\n",
       "      <th>car name</th>\n",
       "      <th>cylinders</th>\n",
       "      <th>displacement</th>\n",
       "      <th>horsepower</th>\n",
       "      <th>id</th>\n",
       "      <th>model year</th>\n",
       "      <th>mpg</th>\n",
       "      <th>origin</th>\n",
       "      <th>weight</th>\n",
       "    </tr>\n",
       "  </thead>\n",
       "  <tbody>\n",
       "    <tr>\n",
       "      <th>194</th>\n",
       "      <td>14.0</td>\n",
       "      <td>audi 100ls</td>\n",
       "      <td>4</td>\n",
       "      <td>114.0</td>\n",
       "      <td>91.00</td>\n",
       "      <td>391</td>\n",
       "      <td>73</td>\n",
       "      <td>NaN</td>\n",
       "      <td>2</td>\n",
       "      <td>2582.0</td>\n",
       "    </tr>\n",
       "    <tr>\n",
       "      <th>195</th>\n",
       "      <td>14.4</td>\n",
       "      <td>dodge colt</td>\n",
       "      <td>4</td>\n",
       "      <td>156.0</td>\n",
       "      <td>105.0</td>\n",
       "      <td>392</td>\n",
       "      <td>80</td>\n",
       "      <td>NaN</td>\n",
       "      <td>1</td>\n",
       "      <td>2800.0</td>\n",
       "    </tr>\n",
       "    <tr>\n",
       "      <th>196</th>\n",
       "      <td>14.8</td>\n",
       "      <td>buick opel isuzu deluxe</td>\n",
       "      <td>4</td>\n",
       "      <td>111.0</td>\n",
       "      <td>80.00</td>\n",
       "      <td>393</td>\n",
       "      <td>77</td>\n",
       "      <td>NaN</td>\n",
       "      <td>1</td>\n",
       "      <td>2155.0</td>\n",
       "    </tr>\n",
       "    <tr>\n",
       "      <th>197</th>\n",
       "      <td>11.1</td>\n",
       "      <td>pontiac grand prix lj</td>\n",
       "      <td>8</td>\n",
       "      <td>400.0</td>\n",
       "      <td>180.0</td>\n",
       "      <td>394</td>\n",
       "      <td>77</td>\n",
       "      <td>NaN</td>\n",
       "      <td>1</td>\n",
       "      <td>4220.0</td>\n",
       "    </tr>\n",
       "    <tr>\n",
       "      <th>198</th>\n",
       "      <td>14.5</td>\n",
       "      <td>volkswagen rabbit custom</td>\n",
       "      <td>4</td>\n",
       "      <td>97.0</td>\n",
       "      <td>78.00</td>\n",
       "      <td>397</td>\n",
       "      <td>77</td>\n",
       "      <td>NaN</td>\n",
       "      <td>2</td>\n",
       "      <td>1940.0</td>\n",
       "    </tr>\n",
       "  </tbody>\n",
       "</table>\n",
       "</div>"
      ],
      "text/plain": [
       "     acceleration                  car name  cylinders  displacement  \\\n",
       "194          14.0                audi 100ls          4         114.0   \n",
       "195          14.4                dodge colt          4         156.0   \n",
       "196          14.8   buick opel isuzu deluxe          4         111.0   \n",
       "197          11.1     pontiac grand prix lj          8         400.0   \n",
       "198          14.5  volkswagen rabbit custom          4          97.0   \n",
       "\n",
       "    horsepower   id  model year  mpg  origin  weight  \n",
       "194      91.00  391          73  NaN       2  2582.0  \n",
       "195      105.0  392          80  NaN       1  2800.0  \n",
       "196      80.00  393          77  NaN       1  2155.0  \n",
       "197      180.0  394          77  NaN       1  4220.0  \n",
       "198      78.00  397          77  NaN       2  1940.0  "
      ]
     },
     "execution_count": 6,
     "metadata": {},
     "output_type": "execute_result"
    }
   ],
   "source": [
    "df.tail()"
   ]
  },
  {
   "cell_type": "code",
   "execution_count": 14,
   "metadata": {},
   "outputs": [],
   "source": [
    "df['horsepower']=df['horsepower'].replace('?',np.nan)"
   ]
  },
  {
   "cell_type": "code",
   "execution_count": 53,
   "metadata": {},
   "outputs": [],
   "source": [
    "df['horsepower']=df['horsepower'].astype(np.float64)\n",
    "df['horsepower']=df['horsepower'].fillna(df['horsepower'].median())"
   ]
  },
  {
   "cell_type": "code",
   "execution_count": null,
   "metadata": {},
   "outputs": [],
   "source": []
  },
  {
   "cell_type": "code",
   "execution_count": 55,
   "metadata": {},
   "outputs": [
    {
     "data": {
      "text/plain": [
       "weight         -0.820660\n",
       "displacement   -0.804635\n",
       "horsepower     -0.782040\n",
       "cylinders      -0.770160\n",
       "id             -0.052688\n",
       "acceleration    0.379721\n",
       "origin          0.533671\n",
       "model year      0.568471\n",
       "mpg             1.000000\n",
       "Name: mpg, dtype: float64"
      ]
     },
     "execution_count": 55,
     "metadata": {},
     "output_type": "execute_result"
    }
   ],
   "source": [
    "correlation=df[df['mpg'].notnull()].corr()\n",
    "correlation['mpg'].sort_values()"
   ]
  },
  {
   "cell_type": "code",
   "execution_count": 56,
   "metadata": {},
   "outputs": [
    {
     "data": {
      "text/html": [
       "<div>\n",
       "<style scoped>\n",
       "    .dataframe tbody tr th:only-of-type {\n",
       "        vertical-align: middle;\n",
       "    }\n",
       "\n",
       "    .dataframe tbody tr th {\n",
       "        vertical-align: top;\n",
       "    }\n",
       "\n",
       "    .dataframe thead th {\n",
       "        text-align: right;\n",
       "    }\n",
       "</style>\n",
       "<table border=\"1\" class=\"dataframe\">\n",
       "  <thead>\n",
       "    <tr style=\"text-align: right;\">\n",
       "      <th></th>\n",
       "      <th>acceleration</th>\n",
       "      <th>cylinders</th>\n",
       "      <th>displacement</th>\n",
       "      <th>horsepower</th>\n",
       "      <th>id</th>\n",
       "      <th>model year</th>\n",
       "      <th>mpg</th>\n",
       "      <th>origin</th>\n",
       "      <th>weight</th>\n",
       "    </tr>\n",
       "  </thead>\n",
       "  <tbody>\n",
       "    <tr>\n",
       "      <th>acceleration</th>\n",
       "      <td>1.000000</td>\n",
       "      <td>-0.479561</td>\n",
       "      <td>-0.523955</td>\n",
       "      <td>-0.656798</td>\n",
       "      <td>-0.087649</td>\n",
       "      <td>0.194854</td>\n",
       "      <td>0.379721</td>\n",
       "      <td>0.189193</td>\n",
       "      <td>-0.401757</td>\n",
       "    </tr>\n",
       "    <tr>\n",
       "      <th>cylinders</th>\n",
       "      <td>-0.479561</td>\n",
       "      <td>1.000000</td>\n",
       "      <td>0.950600</td>\n",
       "      <td>0.849214</td>\n",
       "      <td>0.103419</td>\n",
       "      <td>-0.303462</td>\n",
       "      <td>-0.770160</td>\n",
       "      <td>-0.497373</td>\n",
       "      <td>0.893256</td>\n",
       "    </tr>\n",
       "    <tr>\n",
       "      <th>displacement</th>\n",
       "      <td>-0.523955</td>\n",
       "      <td>0.950600</td>\n",
       "      <td>1.000000</td>\n",
       "      <td>0.891988</td>\n",
       "      <td>0.098416</td>\n",
       "      <td>-0.329817</td>\n",
       "      <td>-0.804635</td>\n",
       "      <td>-0.579805</td>\n",
       "      <td>0.933038</td>\n",
       "    </tr>\n",
       "    <tr>\n",
       "      <th>horsepower</th>\n",
       "      <td>-0.656798</td>\n",
       "      <td>0.849214</td>\n",
       "      <td>0.891988</td>\n",
       "      <td>1.000000</td>\n",
       "      <td>0.081157</td>\n",
       "      <td>-0.380436</td>\n",
       "      <td>-0.782040</td>\n",
       "      <td>-0.419542</td>\n",
       "      <td>0.867910</td>\n",
       "    </tr>\n",
       "    <tr>\n",
       "      <th>id</th>\n",
       "      <td>-0.087649</td>\n",
       "      <td>0.103419</td>\n",
       "      <td>0.098416</td>\n",
       "      <td>0.081157</td>\n",
       "      <td>1.000000</td>\n",
       "      <td>-0.093272</td>\n",
       "      <td>-0.052688</td>\n",
       "      <td>-0.031421</td>\n",
       "      <td>0.070563</td>\n",
       "    </tr>\n",
       "    <tr>\n",
       "      <th>model year</th>\n",
       "      <td>0.194854</td>\n",
       "      <td>-0.303462</td>\n",
       "      <td>-0.329817</td>\n",
       "      <td>-0.380436</td>\n",
       "      <td>-0.093272</td>\n",
       "      <td>1.000000</td>\n",
       "      <td>0.568471</td>\n",
       "      <td>0.124279</td>\n",
       "      <td>-0.265562</td>\n",
       "    </tr>\n",
       "    <tr>\n",
       "      <th>mpg</th>\n",
       "      <td>0.379721</td>\n",
       "      <td>-0.770160</td>\n",
       "      <td>-0.804635</td>\n",
       "      <td>-0.782040</td>\n",
       "      <td>-0.052688</td>\n",
       "      <td>0.568471</td>\n",
       "      <td>1.000000</td>\n",
       "      <td>0.533671</td>\n",
       "      <td>-0.820660</td>\n",
       "    </tr>\n",
       "    <tr>\n",
       "      <th>origin</th>\n",
       "      <td>0.189193</td>\n",
       "      <td>-0.497373</td>\n",
       "      <td>-0.579805</td>\n",
       "      <td>-0.419542</td>\n",
       "      <td>-0.031421</td>\n",
       "      <td>0.124279</td>\n",
       "      <td>0.533671</td>\n",
       "      <td>1.000000</td>\n",
       "      <td>-0.535893</td>\n",
       "    </tr>\n",
       "    <tr>\n",
       "      <th>weight</th>\n",
       "      <td>-0.401757</td>\n",
       "      <td>0.893256</td>\n",
       "      <td>0.933038</td>\n",
       "      <td>0.867910</td>\n",
       "      <td>0.070563</td>\n",
       "      <td>-0.265562</td>\n",
       "      <td>-0.820660</td>\n",
       "      <td>-0.535893</td>\n",
       "      <td>1.000000</td>\n",
       "    </tr>\n",
       "  </tbody>\n",
       "</table>\n",
       "</div>"
      ],
      "text/plain": [
       "              acceleration  cylinders  displacement  horsepower        id  \\\n",
       "acceleration      1.000000  -0.479561     -0.523955   -0.656798 -0.087649   \n",
       "cylinders        -0.479561   1.000000      0.950600    0.849214  0.103419   \n",
       "displacement     -0.523955   0.950600      1.000000    0.891988  0.098416   \n",
       "horsepower       -0.656798   0.849214      0.891988    1.000000  0.081157   \n",
       "id               -0.087649   0.103419      0.098416    0.081157  1.000000   \n",
       "model year        0.194854  -0.303462     -0.329817   -0.380436 -0.093272   \n",
       "mpg               0.379721  -0.770160     -0.804635   -0.782040 -0.052688   \n",
       "origin            0.189193  -0.497373     -0.579805   -0.419542 -0.031421   \n",
       "weight           -0.401757   0.893256      0.933038    0.867910  0.070563   \n",
       "\n",
       "              model year       mpg    origin    weight  \n",
       "acceleration    0.194854  0.379721  0.189193 -0.401757  \n",
       "cylinders      -0.303462 -0.770160 -0.497373  0.893256  \n",
       "displacement   -0.329817 -0.804635 -0.579805  0.933038  \n",
       "horsepower     -0.380436 -0.782040 -0.419542  0.867910  \n",
       "id             -0.093272 -0.052688 -0.031421  0.070563  \n",
       "model year      1.000000  0.568471  0.124279 -0.265562  \n",
       "mpg             0.568471  1.000000  0.533671 -0.820660  \n",
       "origin          0.124279  0.533671  1.000000 -0.535893  \n",
       "weight         -0.265562 -0.820660 -0.535893  1.000000  "
      ]
     },
     "execution_count": 56,
     "metadata": {},
     "output_type": "execute_result"
    }
   ],
   "source": [
    "correlation"
   ]
  },
  {
   "cell_type": "code",
   "execution_count": 57,
   "metadata": {},
   "outputs": [],
   "source": [
    "train_df=df[df['mpg'].notnull()]\n",
    "test_df=df[df['mpg'].isnull()]"
   ]
  },
  {
   "cell_type": "code",
   "execution_count": 58,
   "metadata": {},
   "outputs": [],
   "source": [
    "feats=[f for f in train_df.columns if f not in ['id','mpg']]"
   ]
  },
  {
   "cell_type": "code",
   "execution_count": 59,
   "metadata": {},
   "outputs": [],
   "source": [
    "train_X=train_df[feats]\n",
    "train_y=train_df['mpg']"
   ]
  },
  {
   "cell_type": "code",
   "execution_count": 60,
   "metadata": {},
   "outputs": [],
   "source": []
  },
  {
   "cell_type": "code",
   "execution_count": 71,
   "metadata": {},
   "outputs": [
    {
     "data": {
      "text/plain": [
       "['acceleration',\n",
       " 'cylinders',\n",
       " 'displacement',\n",
       " 'horsepower',\n",
       " 'model year',\n",
       " 'origin',\n",
       " 'weight']"
      ]
     },
     "execution_count": 71,
     "metadata": {},
     "output_type": "execute_result"
    }
   ],
   "source": [
    "feats_for_poly=[f for f in train_X.columns if f not in ['car name']]\n",
    "feats_for_poly"
   ]
  },
  {
   "cell_type": "code",
   "execution_count": 100,
   "metadata": {},
   "outputs": [],
   "source": [
    "train_X_poly=train_X[feats_for_poly]"
   ]
  },
  {
   "cell_type": "code",
   "execution_count": 127,
   "metadata": {},
   "outputs": [],
   "source": [
    "from sklearn.preprocessing import PolynomialFeatures\n",
    "poly=PolynomialFeatures(interaction_only=True)\n",
    "X=poly.fit_transform(train_X_poly)"
   ]
  },
  {
   "cell_type": "code",
   "execution_count": 128,
   "metadata": {},
   "outputs": [
    {
     "data": {
      "text/plain": [
       "(199, 29)"
      ]
     },
     "execution_count": 128,
     "metadata": {},
     "output_type": "execute_result"
    }
   ],
   "source": [
    "X.shape"
   ]
  },
  {
   "cell_type": "code",
   "execution_count": 105,
   "metadata": {},
   "outputs": [
    {
     "data": {
      "text/plain": [
       "array([29. , 31.9, 19. , 28. , 37.7, 27. , 16. , 11. , 26. , 18.2, 16.5,\n",
       "       30.9, 27. , 14. , 18. , 26. , 32.1, 24.5, 28.1, 32.7, 19. , 15. ,\n",
       "       26. , 17. , 23. , 19.8, 13. , 36. , 17. , 38. , 31.5, 16. , 31.5,\n",
       "       39.1, 24. , 32. , 15. , 33.8, 31.3, 23. , 43.1, 27.2, 22. , 19. ,\n",
       "       22. , 23. , 13. , 20.6, 35.1, 44.6, 25. , 16. , 31. , 31. , 25. ,\n",
       "       27.2, 13. , 30. ,  9. , 34. , 25. , 21.5, 38.1, 14. , 23. , 34.3,\n",
       "       22. , 15.5, 16. , 14. , 26. , 28. , 32.9, 30. , 25. , 15. , 23. ,\n",
       "       14. , 24.2, 19. , 27. , 15. , 22. , 18. , 15. , 39. , 26. , 34. ,\n",
       "       23. , 31.8, 29. , 26.4, 25.5, 20.8, 34.4, 16.5, 24. , 30.5, 34.5,\n",
       "       14. , 37. , 29.8, 26. , 20. , 18.1, 31. , 15.5, 19. , 18. , 28.4,\n",
       "       26. , 20.6, 20. , 34.5, 22. , 30. , 17.5, 33.5, 12. , 24. , 13. ,\n",
       "       21. , 33. , 41.5, 23. , 16. , 18. , 35. , 17. , 23.5, 18.1, 31. ,\n",
       "       15. , 17.6, 30.5, 36.4, 20. , 25.8, 19.1, 20. , 34.7, 10. , 24. ,\n",
       "       34.2, 26. , 40.9, 28. , 21. , 17.5, 22. , 18. , 14. , 25.5, 13. ,\n",
       "       28. , 31. , 22.4, 23.9, 32. , 18. , 32. , 32. , 20. , 12. , 18.6,\n",
       "       13. , 26.5, 25. , 28. , 29.5, 14. , 21.5, 32.8, 33.7, 15. , 25. ,\n",
       "       29.8, 23.9, 19.4, 25.1, 35. , 21.5, 17.5, 17.7, 11. , 18. , 27. ,\n",
       "       15. , 24. , 36. , 27.4, 18. , 13. , 19. , 40.8, 20.2, 16. , 43.4,\n",
       "       26. ])"
      ]
     },
     "execution_count": 105,
     "metadata": {},
     "output_type": "execute_result"
    }
   ],
   "source": [
    "y=train_y\n",
    "y"
   ]
  },
  {
   "cell_type": "code",
   "execution_count": 90,
   "metadata": {},
   "outputs": [],
   "source": [
    "from sklearn.model_selection import KFold\n",
    "folds=KFold(n_splits=10,shuffle=True,random_state=0)"
   ]
  },
  {
   "cell_type": "code",
   "execution_count": 108,
   "metadata": {},
   "outputs": [],
   "source": [
    "import lightgbm as lgb"
   ]
  },
  {
   "cell_type": "code",
   "execution_count": 109,
   "metadata": {},
   "outputs": [],
   "source": [
    "score=np.empty(10)\n",
    "feature_importance_df = pd.DataFrame()\n",
    "for n_fold, (train_idx, valid_idx) in enumerate(folds.split(X,y)):\n",
    "    train_X,train_y=X[train_idx],y[train_idx]\n",
    "    valid_X,valid_y=X[valid_idx],y[valid_idx]\n",
    "\n",
    "    params = {\n",
    "        'task' : 'train',\n",
    "        'boosting_type' : 'gbdt',\n",
    "        'objective' : 'regression',\n",
    "        'metric' : {'l2'},\n",
    "        'num_leaves' : 31,\n",
    "        'learning_rate' : 0.1,\n",
    "        'feature_fraction' : 0.9,\n",
    "        'bagging_fraction' : 0.8,\n",
    "        'bagging_freq': 5,\n",
    "        'verbose' : 0\n",
    "    }\n",
    "    \n",
    "    lgb_train=lgb.Dataset(train_X,train_y)\n",
    "    lgb_valid=lgb.Dataset(valid_X,valid_y)\n",
    "    gbm=lgb.train(params,lgb_train,num_boost_round=100)\n",
    "    pred_y=gbm.predict(valid_X)\n",
    "    score[n_fold]=mean_absolute_error(pred_y,valid_y)"
   ]
  },
  {
   "cell_type": "code",
   "execution_count": 112,
   "metadata": {},
   "outputs": [
    {
     "data": {
      "text/plain": [
       "2.1330888804594186"
      ]
     },
     "execution_count": 112,
     "metadata": {},
     "output_type": "execute_result"
    }
   ],
   "source": [
    "score.mean()"
   ]
  },
  {
   "cell_type": "code",
   "execution_count": 113,
   "metadata": {},
   "outputs": [],
   "source": [
    "car_name=train_df['car name']"
   ]
  },
  {
   "cell_type": "code",
   "execution_count": 115,
   "metadata": {},
   "outputs": [],
   "source": [
    "car_name=pd.get_dummies(car_name)"
   ]
  },
  {
   "cell_type": "code",
   "execution_count": 118,
   "metadata": {},
   "outputs": [],
   "source": [
    "car_name=car_name.values"
   ]
  },
  {
   "cell_type": "code",
   "execution_count": 119,
   "metadata": {},
   "outputs": [
    {
     "data": {
      "text/plain": [
       "(199, 29)"
      ]
     },
     "execution_count": 119,
     "metadata": {},
     "output_type": "execute_result"
    }
   ],
   "source": [
    "X.shape"
   ]
  },
  {
   "cell_type": "code",
   "execution_count": 120,
   "metadata": {},
   "outputs": [
    {
     "data": {
      "text/plain": [
       "(199, 167)"
      ]
     },
     "execution_count": 120,
     "metadata": {},
     "output_type": "execute_result"
    }
   ],
   "source": [
    "car_name.shape"
   ]
  },
  {
   "cell_type": "code",
   "execution_count": 129,
   "metadata": {},
   "outputs": [],
   "source": [
    "X=np.hstack([X,car_name])"
   ]
  },
  {
   "cell_type": "code",
   "execution_count": 131,
   "metadata": {},
   "outputs": [
    {
     "data": {
      "text/plain": [
       "(199, 196)"
      ]
     },
     "execution_count": 131,
     "metadata": {},
     "output_type": "execute_result"
    }
   ],
   "source": [
    "X.shape"
   ]
  },
  {
   "cell_type": "code",
   "execution_count": 132,
   "metadata": {},
   "outputs": [],
   "source": [
    "score=np.empty(10)\n",
    "feature_importance_df = pd.DataFrame()\n",
    "for n_fold, (train_idx, valid_idx) in enumerate(folds.split(X,y)):\n",
    "    train_X,train_y=X[train_idx],y[train_idx]\n",
    "    valid_X,valid_y=X[valid_idx],y[valid_idx]\n",
    "\n",
    "    params = {\n",
    "        'task' : 'train',\n",
    "        'boosting_type' : 'gbdt',\n",
    "        'objective' : 'regression',\n",
    "        'metric' : {'l2'},\n",
    "        'num_leaves' : 31,\n",
    "        'learning_rate' : 0.1,\n",
    "        'feature_fraction' : 0.9,\n",
    "        'bagging_fraction' : 0.8,\n",
    "        'bagging_freq': 5,\n",
    "        'verbose' : 0\n",
    "    }\n",
    "    \n",
    "    lgb_train=lgb.Dataset(train_X,train_y)\n",
    "    lgb_valid=lgb.Dataset(valid_X,valid_y)\n",
    "    gbm=lgb.train(params,lgb_train,num_boost_round=100)\n",
    "    pred_y=gbm.predict(valid_X)\n",
    "    score[n_fold]=mean_absolute_error(pred_y,valid_y)"
   ]
  },
  {
   "cell_type": "code",
   "execution_count": 133,
   "metadata": {},
   "outputs": [
    {
     "data": {
      "text/plain": [
       "2.1330888804594186"
      ]
     },
     "execution_count": 133,
     "metadata": {},
     "output_type": "execute_result"
    }
   ],
   "source": [
    "score.mean()"
   ]
  },
  {
   "cell_type": "code",
   "execution_count": 126,
   "metadata": {},
   "outputs": [
    {
     "data": {
      "text/plain": [
       "(199, 196)"
      ]
     },
     "execution_count": 126,
     "metadata": {},
     "output_type": "execute_result"
    }
   ],
   "source": [
    "X"
   ]
  },
  {
   "cell_type": "code",
   "execution_count": null,
   "metadata": {},
   "outputs": [],
   "source": []
  }
 ],
 "metadata": {
  "kernelspec": {
   "display_name": "Python 3",
   "language": "python",
   "name": "python3"
  },
  "language_info": {
   "codemirror_mode": {
    "name": "ipython",
    "version": 3
   },
   "file_extension": ".py",
   "mimetype": "text/x-python",
   "name": "python",
   "nbconvert_exporter": "python",
   "pygments_lexer": "ipython3",
   "version": "3.6.4"
  }
 },
 "nbformat": 4,
 "nbformat_minor": 2
}

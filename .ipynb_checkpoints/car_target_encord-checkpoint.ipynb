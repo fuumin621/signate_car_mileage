{
 "cells": [
  {
   "cell_type": "code",
   "execution_count": 1,
   "metadata": {},
   "outputs": [],
   "source": [
    "import numpy as np\n",
    "import pandas as pd\n",
    "import lightgbm as lgb\n",
    "from sklearn.metrics import mean_absolute_error\n",
    "from sklearn import preprocessing\n",
    "pd.options.display.max_columns=999"
   ]
  },
  {
   "cell_type": "code",
   "execution_count": 2,
   "metadata": {},
   "outputs": [],
   "source": [
    "train=pd.read_csv('train.tsv',delimiter='\\t')\n",
    "test=pd.read_csv('test.tsv',delimiter='\\t')"
   ]
  },
  {
   "cell_type": "code",
   "execution_count": 3,
   "metadata": {},
   "outputs": [
    {
     "name": "stderr",
     "output_type": "stream",
     "text": [
      "C:\\ProgramData\\Anaconda3\\lib\\site-packages\\pandas\\core\\frame.py:6211: FutureWarning: Sorting because non-concatenation axis is not aligned. A future version\n",
      "of pandas will change to not sort by default.\n",
      "\n",
      "To accept the future behavior, pass 'sort=False'.\n",
      "\n",
      "To retain the current behavior and silence the warning, pass 'sort=True'.\n",
      "\n",
      "  sort=sort)\n"
     ]
    }
   ],
   "source": [
    "df=train.append(test).reset_index(drop=True)"
   ]
  },
  {
   "cell_type": "code",
   "execution_count": 4,
   "metadata": {},
   "outputs": [
    {
     "data": {
      "text/html": [
       "<div>\n",
       "<style scoped>\n",
       "    .dataframe tbody tr th:only-of-type {\n",
       "        vertical-align: middle;\n",
       "    }\n",
       "\n",
       "    .dataframe tbody tr th {\n",
       "        vertical-align: top;\n",
       "    }\n",
       "\n",
       "    .dataframe thead th {\n",
       "        text-align: right;\n",
       "    }\n",
       "</style>\n",
       "<table border=\"1\" class=\"dataframe\">\n",
       "  <thead>\n",
       "    <tr style=\"text-align: right;\">\n",
       "      <th></th>\n",
       "      <th>acceleration</th>\n",
       "      <th>car name</th>\n",
       "      <th>cylinders</th>\n",
       "      <th>displacement</th>\n",
       "      <th>horsepower</th>\n",
       "      <th>id</th>\n",
       "      <th>model year</th>\n",
       "      <th>mpg</th>\n",
       "      <th>origin</th>\n",
       "      <th>weight</th>\n",
       "    </tr>\n",
       "  </thead>\n",
       "  <tbody>\n",
       "    <tr>\n",
       "      <th>0</th>\n",
       "      <td>16.0</td>\n",
       "      <td>dodge aries se</td>\n",
       "      <td>4</td>\n",
       "      <td>135.0</td>\n",
       "      <td>84.00</td>\n",
       "      <td>0</td>\n",
       "      <td>82</td>\n",
       "      <td>29.0</td>\n",
       "      <td>1</td>\n",
       "      <td>2525.0</td>\n",
       "    </tr>\n",
       "    <tr>\n",
       "      <th>1</th>\n",
       "      <td>14.0</td>\n",
       "      <td>vw rabbit custom</td>\n",
       "      <td>4</td>\n",
       "      <td>89.0</td>\n",
       "      <td>71.00</td>\n",
       "      <td>3</td>\n",
       "      <td>79</td>\n",
       "      <td>31.9</td>\n",
       "      <td>2</td>\n",
       "      <td>1925.0</td>\n",
       "    </tr>\n",
       "    <tr>\n",
       "      <th>2</th>\n",
       "      <td>15.5</td>\n",
       "      <td>toyota mark ii</td>\n",
       "      <td>6</td>\n",
       "      <td>156.0</td>\n",
       "      <td>108.0</td>\n",
       "      <td>9</td>\n",
       "      <td>76</td>\n",
       "      <td>19.0</td>\n",
       "      <td>3</td>\n",
       "      <td>2930.0</td>\n",
       "    </tr>\n",
       "    <tr>\n",
       "      <th>3</th>\n",
       "      <td>14.5</td>\n",
       "      <td>dodge colt</td>\n",
       "      <td>4</td>\n",
       "      <td>90.0</td>\n",
       "      <td>75.00</td>\n",
       "      <td>11</td>\n",
       "      <td>74</td>\n",
       "      <td>28.0</td>\n",
       "      <td>1</td>\n",
       "      <td>2125.0</td>\n",
       "    </tr>\n",
       "    <tr>\n",
       "      <th>4</th>\n",
       "      <td>17.3</td>\n",
       "      <td>toyota tercel</td>\n",
       "      <td>4</td>\n",
       "      <td>89.0</td>\n",
       "      <td>62.00</td>\n",
       "      <td>13</td>\n",
       "      <td>81</td>\n",
       "      <td>37.7</td>\n",
       "      <td>3</td>\n",
       "      <td>2050.0</td>\n",
       "    </tr>\n",
       "  </tbody>\n",
       "</table>\n",
       "</div>"
      ],
      "text/plain": [
       "   acceleration          car name  cylinders  displacement horsepower  id  \\\n",
       "0          16.0    dodge aries se          4         135.0      84.00   0   \n",
       "1          14.0  vw rabbit custom          4          89.0      71.00   3   \n",
       "2          15.5    toyota mark ii          6         156.0      108.0   9   \n",
       "3          14.5        dodge colt          4          90.0      75.00  11   \n",
       "4          17.3     toyota tercel          4          89.0      62.00  13   \n",
       "\n",
       "   model year   mpg  origin  weight  \n",
       "0          82  29.0       1  2525.0  \n",
       "1          79  31.9       2  1925.0  \n",
       "2          76  19.0       3  2930.0  \n",
       "3          74  28.0       1  2125.0  \n",
       "4          81  37.7       3  2050.0  "
      ]
     },
     "execution_count": 4,
     "metadata": {},
     "output_type": "execute_result"
    }
   ],
   "source": [
    "df.head()"
   ]
  },
  {
   "cell_type": "code",
   "execution_count": 5,
   "metadata": {},
   "outputs": [],
   "source": [
    "def split_name(text,num):\n",
    "    split=text.split()\n",
    "    try:\n",
    "        return split[num]\n",
    "    except:\n",
    "        return np.nan"
   ]
  },
  {
   "cell_type": "code",
   "execution_count": 6,
   "metadata": {},
   "outputs": [],
   "source": [
    "df['car0']=df['car name'].apply(lambda x:split_name(text=x,num=0))"
   ]
  },
  {
   "cell_type": "code",
   "execution_count": 7,
   "metadata": {},
   "outputs": [],
   "source": [
    "df['car1']=df['car name'].apply(lambda x:split_name(text=x,num=1))\n",
    "df['car2']=df['car name'].apply(lambda x:split_name(text=x,num=2))"
   ]
  },
  {
   "cell_type": "code",
   "execution_count": 8,
   "metadata": {
    "scrolled": true
   },
   "outputs": [],
   "source": [
    "car1_notnull=df['car1'].notnull()\n",
    "car2_notnull=df['car2'].notnull()"
   ]
  },
  {
   "cell_type": "code",
   "execution_count": 9,
   "metadata": {},
   "outputs": [],
   "source": [
    "df['car0_1']=df['car0'][car1_notnull]+df['car1'][car1_notnull]"
   ]
  },
  {
   "cell_type": "code",
   "execution_count": 10,
   "metadata": {},
   "outputs": [],
   "source": [
    "df['car0_1_2']=df['car0'][car2_notnull]+df['car1'][car2_notnull]+df['car2'][car2_notnull]"
   ]
  },
  {
   "cell_type": "code",
   "execution_count": 11,
   "metadata": {},
   "outputs": [],
   "source": [
    "df.drop(columns='car name',inplace=True)"
   ]
  },
  {
   "cell_type": "code",
   "execution_count": 12,
   "metadata": {},
   "outputs": [],
   "source": [
    "df['horsepower']=df['horsepower'].replace('?',np.nan)\n",
    "df['horsepower']=df['horsepower'].astype(np.float64)"
   ]
  },
  {
   "cell_type": "code",
   "execution_count": 14,
   "metadata": {},
   "outputs": [],
   "source": [
    "le=preprocessing.LabelEncoder()"
   ]
  },
  {
   "cell_type": "code",
   "execution_count": 15,
   "metadata": {},
   "outputs": [
    {
     "data": {
      "text/plain": [
       "array([11, 36, 30, 11, 30, 26,  6, 22,  2, 11, 19, 11, 10,  7,  0, 27,  7,\n",
       "        7, 24, 10, 13, 20, 29,  7,  0, 20, 26, 11,  7, 22, 15,  7, 34, 30,\n",
       "       28, 30,  0, 29, 17, 26, 34, 25, 13,  0, 13, 13,  7, 11, 15, 15, 23,\n",
       "        7,  8, 26,  5, 10,  0, 12, 14, 30, 34,  2, 30, 13, 31,  1,  7,  7,\n",
       "       13,  7, 11, 23, 10, 25,  3, 13, 24, 13, 10,  0, 34, 11,  7,  7, 11,\n",
       "       25, 34,  7, 20, 10, 36, 13, 25, 20, 13, 20, 15, 34, 25, 25, 10, 33,\n",
       "       25,  7,  0, 30, 11, 35,  7,  3, 23,  3, 11, 27, 10, 19,  0, 10, 22,\n",
       "       12, 25,  7, 34, 36, 34, 13, 35, 32,  3,  7, 13, 12,  7, 13,  7,  1,\n",
       "       30, 11, 11,  7, 25,  8, 30, 25, 34, 27,  7,  3, 11, 25,  0, 13, 13,\n",
       "        3, 10, 30,  3, 10, 10, 13, 11, 30,  0, 11, 11, 13, 13, 28,  7, 15,\n",
       "       25, 17, 17, 15,  0, 13, 30, 22, 11, 13, 10, 26,  7,  3,  7,  0,  7,\n",
       "       25, 30, 34,  0,  0,  7,  0, 10, 20,  0, 36, 12, 35, 13, 10,  0, 30,\n",
       "        1, 11,  3, 26,  0,  9, 30, 26, 30, 13, 11, 24, 18, 13, 10, 23, 36,\n",
       "       11, 13,  3, 26,  0,  0,  3, 34, 15, 25, 15,  9, 25,  7, 10, 25, 26,\n",
       "       36, 22, 34, 24, 12, 24, 17, 25, 25,  1, 30, 22, 30, 11, 25, 13, 13,\n",
       "        0, 27,  0, 22,  0, 30, 13, 13, 13, 25, 17, 13, 13,  7, 13, 17, 30,\n",
       "       13, 12, 16, 13,  7, 26,  7, 29, 16, 25,  7, 13, 10, 25,  4, 25,  7,\n",
       "       28,  7, 25, 35, 13, 26, 15, 11, 20, 10,  7, 11,  7,  0, 30,  7,  0,\n",
       "        7, 25, 26, 13, 13, 13,  1, 20, 34, 13,  7, 26, 22, 17,  9, 13, 13,\n",
       "        9, 13, 35, 13,  8, 29, 13, 15, 34,  7,  3,  9, 35, 24, 21,  0, 30,\n",
       "       25,  9, 25,  3, 10, 25, 11, 12,  7,  7,  3, 10, 22, 13, 24,  4, 15,\n",
       "        0, 13, 15, 13, 15, 30,  3, 25, 20,  7, 13, 26, 11, 17,  0, 25, 28,\n",
       "       30, 26, 27, 17,  3, 13, 24, 10, 13,  1, 11, 20, 22, 17, 20, 10, 30,\n",
       "       25, 12,  1, 11,  3, 26, 34], dtype=int64)"
      ]
     },
     "execution_count": 15,
     "metadata": {},
     "output_type": "execute_result"
    }
   ],
   "source": []
  },
  {
   "cell_type": "code",
   "execution_count": null,
   "metadata": {},
   "outputs": [],
   "source": []
  }
 ],
 "metadata": {
  "kernelspec": {
   "display_name": "Python 3",
   "language": "python",
   "name": "python3"
  },
  "language_info": {
   "codemirror_mode": {
    "name": "ipython",
    "version": 3
   },
   "file_extension": ".py",
   "mimetype": "text/x-python",
   "name": "python",
   "nbconvert_exporter": "python",
   "pygments_lexer": "ipython3",
   "version": "3.6.4"
  }
 },
 "nbformat": 4,
 "nbformat_minor": 2
}

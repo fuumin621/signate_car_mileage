{
 "cells": [
  {
   "cell_type": "code",
   "execution_count": 32,
   "metadata": {},
   "outputs": [],
   "source": [
    "import numpy as np\n",
    "import pandas as pd\n",
    "from sklearn.metrics import mean_absolute_error\n",
    "from sklearn import preprocessing\n",
    "import matplotlib.pyplot as plt\n",
    "import seaborn as sns"
   ]
  },
  {
   "cell_type": "code",
   "execution_count": 38,
   "metadata": {},
   "outputs": [
    {
     "name": "stderr",
     "output_type": "stream",
     "text": [
      "C:\\ProgramData\\Anaconda3\\lib\\site-packages\\pandas\\core\\frame.py:6211: FutureWarning: Sorting because non-concatenation axis is not aligned. A future version\n",
      "of pandas will change to not sort by default.\n",
      "\n",
      "To accept the future behavior, pass 'sort=False'.\n",
      "\n",
      "To retain the current behavior and silence the warning, pass 'sort=True'.\n",
      "\n",
      "  sort=sort)\n"
     ]
    }
   ],
   "source": [
    "train=pd.read_csv('train.tsv',delimiter='\\t')\n",
    "test=pd.read_csv('test.tsv',delimiter='\\t')\n",
    "df=train.append(test).reset_index(drop=True)\n",
    "df['horsepower']=df['horsepower'].replace('?',np.nan)\n",
    "df['horsepower']=df['horsepower'].astype(np.float64)\n",
    "df['horsepower']=df['horsepower'].fillna(df['horsepower'].median())"
   ]
  },
  {
   "cell_type": "code",
   "execution_count": 40,
   "metadata": {},
   "outputs": [
    {
     "data": {
      "text/html": [
       "<div>\n",
       "<style scoped>\n",
       "    .dataframe tbody tr th:only-of-type {\n",
       "        vertical-align: middle;\n",
       "    }\n",
       "\n",
       "    .dataframe tbody tr th {\n",
       "        vertical-align: top;\n",
       "    }\n",
       "\n",
       "    .dataframe thead th {\n",
       "        text-align: right;\n",
       "    }\n",
       "</style>\n",
       "<table border=\"1\" class=\"dataframe\">\n",
       "  <thead>\n",
       "    <tr style=\"text-align: right;\">\n",
       "      <th></th>\n",
       "      <th>acceleration</th>\n",
       "      <th>car name</th>\n",
       "      <th>cylinders</th>\n",
       "      <th>displacement</th>\n",
       "      <th>horsepower</th>\n",
       "      <th>id</th>\n",
       "      <th>model year</th>\n",
       "      <th>mpg</th>\n",
       "      <th>origin</th>\n",
       "      <th>weight</th>\n",
       "    </tr>\n",
       "  </thead>\n",
       "  <tbody>\n",
       "    <tr>\n",
       "      <th>393</th>\n",
       "      <td>14.0</td>\n",
       "      <td>audi 100ls</td>\n",
       "      <td>4</td>\n",
       "      <td>114.0</td>\n",
       "      <td>91.0</td>\n",
       "      <td>391</td>\n",
       "      <td>73</td>\n",
       "      <td>NaN</td>\n",
       "      <td>2</td>\n",
       "      <td>2582.0</td>\n",
       "    </tr>\n",
       "    <tr>\n",
       "      <th>394</th>\n",
       "      <td>14.4</td>\n",
       "      <td>dodge colt</td>\n",
       "      <td>4</td>\n",
       "      <td>156.0</td>\n",
       "      <td>105.0</td>\n",
       "      <td>392</td>\n",
       "      <td>80</td>\n",
       "      <td>NaN</td>\n",
       "      <td>1</td>\n",
       "      <td>2800.0</td>\n",
       "    </tr>\n",
       "    <tr>\n",
       "      <th>395</th>\n",
       "      <td>14.8</td>\n",
       "      <td>buick opel isuzu deluxe</td>\n",
       "      <td>4</td>\n",
       "      <td>111.0</td>\n",
       "      <td>80.0</td>\n",
       "      <td>393</td>\n",
       "      <td>77</td>\n",
       "      <td>NaN</td>\n",
       "      <td>1</td>\n",
       "      <td>2155.0</td>\n",
       "    </tr>\n",
       "    <tr>\n",
       "      <th>396</th>\n",
       "      <td>11.1</td>\n",
       "      <td>pontiac grand prix lj</td>\n",
       "      <td>8</td>\n",
       "      <td>400.0</td>\n",
       "      <td>180.0</td>\n",
       "      <td>394</td>\n",
       "      <td>77</td>\n",
       "      <td>NaN</td>\n",
       "      <td>1</td>\n",
       "      <td>4220.0</td>\n",
       "    </tr>\n",
       "    <tr>\n",
       "      <th>397</th>\n",
       "      <td>14.5</td>\n",
       "      <td>volkswagen rabbit custom</td>\n",
       "      <td>4</td>\n",
       "      <td>97.0</td>\n",
       "      <td>78.0</td>\n",
       "      <td>397</td>\n",
       "      <td>77</td>\n",
       "      <td>NaN</td>\n",
       "      <td>2</td>\n",
       "      <td>1940.0</td>\n",
       "    </tr>\n",
       "  </tbody>\n",
       "</table>\n",
       "</div>"
      ],
      "text/plain": [
       "     acceleration                  car name  cylinders  displacement  \\\n",
       "393          14.0                audi 100ls          4         114.0   \n",
       "394          14.4                dodge colt          4         156.0   \n",
       "395          14.8   buick opel isuzu deluxe          4         111.0   \n",
       "396          11.1     pontiac grand prix lj          8         400.0   \n",
       "397          14.5  volkswagen rabbit custom          4          97.0   \n",
       "\n",
       "     horsepower   id  model year  mpg  origin  weight  \n",
       "393        91.0  391          73  NaN       2  2582.0  \n",
       "394       105.0  392          80  NaN       1  2800.0  \n",
       "395        80.0  393          77  NaN       1  2155.0  \n",
       "396       180.0  394          77  NaN       1  4220.0  \n",
       "397        78.0  397          77  NaN       2  1940.0  "
      ]
     },
     "execution_count": 40,
     "metadata": {},
     "output_type": "execute_result"
    }
   ],
   "source": [
    "df.tail()"
   ]
  },
  {
   "cell_type": "code",
   "execution_count": 41,
   "metadata": {},
   "outputs": [],
   "source": [
    "feats_for_poly=[f for f in df.columns if f not in ['id','mpg','car name']]\n",
    "df_poly=df[feats_for_poly]"
   ]
  },
  {
   "cell_type": "code",
   "execution_count": 42,
   "metadata": {},
   "outputs": [],
   "source": [
    "from sklearn.preprocessing import PolynomialFeatures\n",
    "poly=PolynomialFeatures(interaction_only=True,include_bias=False)\n",
    "df_poly=poly.fit_transform(df_poly)"
   ]
  },
  {
   "cell_type": "code",
   "execution_count": 43,
   "metadata": {},
   "outputs": [],
   "source": [
    "poly_columns=poly.get_feature_names(feats_for_poly)"
   ]
  },
  {
   "cell_type": "code",
   "execution_count": 44,
   "metadata": {},
   "outputs": [],
   "source": [
    "df_poly=pd.DataFrame(df_poly,columns=poly_columns)"
   ]
  },
  {
   "cell_type": "code",
   "execution_count": 45,
   "metadata": {},
   "outputs": [],
   "source": [
    "df_car=pd.get_dummies(df['car name'])"
   ]
  },
  {
   "cell_type": "code",
   "execution_count": 46,
   "metadata": {},
   "outputs": [],
   "source": [
    "df=pd.concat([df_poly,df_car,df[['id','mpg']]],axis=1)"
   ]
  },
  {
   "cell_type": "code",
   "execution_count": 47,
   "metadata": {},
   "outputs": [
    {
     "data": {
      "text/plain": [
       "(398, 335)"
      ]
     },
     "execution_count": 47,
     "metadata": {},
     "output_type": "execute_result"
    }
   ],
   "source": [
    "df.shape"
   ]
  },
  {
   "cell_type": "code",
   "execution_count": 48,
   "metadata": {},
   "outputs": [],
   "source": [
    "import lightgbm as lgb\n",
    "train_df=df[df['mpg'].notnull()]\n",
    "test_df=df[df['mpg'].isnull()]\n",
    "\n",
    "feats=[f for f in train_df.columns if f not in ['index','id','mpg']]\n",
    "train_X=train_df[feats]\n",
    "train_y=train_df['mpg']\n",
    "\n",
    "train_X,train_y=train_df[feats],train_df['mpg']\n",
    "test_X=test_df[feats]\n",
    "gbm_reg=lgb.LGBMRegressor(objective='regression',\n",
    "                     num_leaves=31,\n",
    "                     n_estimators=100)\n",
    "gbm_reg.fit(train_X,train_y,\n",
    "           verbose=0)\n",
    "pred_sub=gbm_reg.predict(test_X)"
   ]
  },
  {
   "cell_type": "code",
   "execution_count": 49,
   "metadata": {},
   "outputs": [],
   "source": [
    "sub=pd.DataFrame(test['id'])\n",
    "sub['mpg']=pred_sub"
   ]
  },
  {
   "cell_type": "code",
   "execution_count": 50,
   "metadata": {},
   "outputs": [],
   "source": [
    "sub.to_csv('0909_poly.csv',header=False,index=False)"
   ]
  },
  {
   "cell_type": "code",
   "execution_count": null,
   "metadata": {},
   "outputs": [],
   "source": []
  },
  {
   "cell_type": "code",
   "execution_count": 52,
   "metadata": {},
   "outputs": [],
   "source": [
    "df['horsepower/weight']=df['horsepower']/df['weight']"
   ]
  },
  {
   "cell_type": "code",
   "execution_count": 55,
   "metadata": {},
   "outputs": [],
   "source": [
    "import lightgbm as lgb\n",
    "train_df=df[df['mpg'].notnull()]\n",
    "test_df=df[df['mpg'].isnull()]\n",
    "\n",
    "feats=[f for f in train_df.columns if f not in ['index','id','mpg']]\n",
    "train_X=train_df[feats]\n",
    "train_y=train_df['mpg']\n",
    "\n",
    "train_X,train_y=train_df[feats],train_df['mpg']\n",
    "test_X=test_df[feats]\n",
    "gbm_reg=lgb.LGBMRegressor(objective='regression',\n",
    "                     num_leaves=31,\n",
    "                     n_estimators=100)\n",
    "gbm_reg.fit(train_X,train_y,\n",
    "           verbose=0)\n",
    "pred_sub=gbm_reg.predict(test_X)\n",
    "sub=pd.DataFrame(test['id'])\n",
    "sub['mpg']=pred_sub\n",
    "sub.to_csv('0909_poly.csv',header=False,index=False)"
   ]
  },
  {
   "cell_type": "code",
   "execution_count": null,
   "metadata": {},
   "outputs": [],
   "source": []
  }
 ],
 "metadata": {
  "kernelspec": {
   "display_name": "Python 3",
   "language": "python",
   "name": "python3"
  },
  "language_info": {
   "codemirror_mode": {
    "name": "ipython",
    "version": 3
   },
   "file_extension": ".py",
   "mimetype": "text/x-python",
   "name": "python",
   "nbconvert_exporter": "python",
   "pygments_lexer": "ipython3",
   "version": "3.6.4"
  }
 },
 "nbformat": 4,
 "nbformat_minor": 2
}

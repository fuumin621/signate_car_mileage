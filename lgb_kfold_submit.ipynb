{
 "cells": [
  {
   "cell_type": "code",
   "execution_count": 94,
   "metadata": {},
   "outputs": [],
   "source": [
    "import numpy as np\n",
    "import pandas as pd\n",
    "import matplotlib.pyplot as plt\n",
    "import seaborn as sns\n",
    "import lightgbm as lgb\n",
    "from sklearn.metrics import mean_absolute_error\n",
    "from sklearn.model_selection import KFold\n",
    "from sklearn import preprocessing\n",
    "pd.options.display.max_columns=999"
   ]
  },
  {
   "cell_type": "code",
   "execution_count": 95,
   "metadata": {},
   "outputs": [
    {
     "data": {
      "text/html": [
       "<div>\n",
       "<style scoped>\n",
       "    .dataframe tbody tr th:only-of-type {\n",
       "        vertical-align: middle;\n",
       "    }\n",
       "\n",
       "    .dataframe tbody tr th {\n",
       "        vertical-align: top;\n",
       "    }\n",
       "\n",
       "    .dataframe thead th {\n",
       "        text-align: right;\n",
       "    }\n",
       "</style>\n",
       "<table border=\"1\" class=\"dataframe\">\n",
       "  <thead>\n",
       "    <tr style=\"text-align: right;\">\n",
       "      <th></th>\n",
       "      <th>acceleration</th>\n",
       "      <th>cylinders</th>\n",
       "      <th>displacement</th>\n",
       "      <th>horsepower</th>\n",
       "      <th>id</th>\n",
       "      <th>model year</th>\n",
       "      <th>mpg</th>\n",
       "      <th>origin</th>\n",
       "      <th>weight</th>\n",
       "      <th>car0</th>\n",
       "      <th>car0_1</th>\n",
       "    </tr>\n",
       "  </thead>\n",
       "  <tbody>\n",
       "    <tr>\n",
       "      <th>0</th>\n",
       "      <td>16.0</td>\n",
       "      <td>4</td>\n",
       "      <td>135.0</td>\n",
       "      <td>84.0</td>\n",
       "      <td>0</td>\n",
       "      <td>82</td>\n",
       "      <td>29.0</td>\n",
       "      <td>1</td>\n",
       "      <td>2525.0</td>\n",
       "      <td>22.144444</td>\n",
       "      <td>27.400000</td>\n",
       "    </tr>\n",
       "    <tr>\n",
       "      <th>1</th>\n",
       "      <td>14.0</td>\n",
       "      <td>4</td>\n",
       "      <td>89.0</td>\n",
       "      <td>71.0</td>\n",
       "      <td>3</td>\n",
       "      <td>79</td>\n",
       "      <td>31.9</td>\n",
       "      <td>2</td>\n",
       "      <td>1925.0</td>\n",
       "      <td>36.450000</td>\n",
       "      <td>34.133333</td>\n",
       "    </tr>\n",
       "    <tr>\n",
       "      <th>2</th>\n",
       "      <td>15.5</td>\n",
       "      <td>6</td>\n",
       "      <td>156.0</td>\n",
       "      <td>108.0</td>\n",
       "      <td>9</td>\n",
       "      <td>76</td>\n",
       "      <td>19.0</td>\n",
       "      <td>3</td>\n",
       "      <td>2930.0</td>\n",
       "      <td>30.130769</td>\n",
       "      <td>19.500000</td>\n",
       "    </tr>\n",
       "    <tr>\n",
       "      <th>3</th>\n",
       "      <td>14.5</td>\n",
       "      <td>4</td>\n",
       "      <td>90.0</td>\n",
       "      <td>75.0</td>\n",
       "      <td>11</td>\n",
       "      <td>74</td>\n",
       "      <td>28.0</td>\n",
       "      <td>1</td>\n",
       "      <td>2125.0</td>\n",
       "      <td>22.144444</td>\n",
       "      <td>27.000000</td>\n",
       "    </tr>\n",
       "    <tr>\n",
       "      <th>4</th>\n",
       "      <td>17.3</td>\n",
       "      <td>4</td>\n",
       "      <td>89.0</td>\n",
       "      <td>62.0</td>\n",
       "      <td>13</td>\n",
       "      <td>81</td>\n",
       "      <td>37.7</td>\n",
       "      <td>3</td>\n",
       "      <td>2050.0</td>\n",
       "      <td>30.130769</td>\n",
       "      <td>37.700000</td>\n",
       "    </tr>\n",
       "  </tbody>\n",
       "</table>\n",
       "</div>"
      ],
      "text/plain": [
       "   acceleration  cylinders  displacement  horsepower  id  model year   mpg  \\\n",
       "0          16.0          4         135.0        84.0   0          82  29.0   \n",
       "1          14.0          4          89.0        71.0   3          79  31.9   \n",
       "2          15.5          6         156.0       108.0   9          76  19.0   \n",
       "3          14.5          4          90.0        75.0  11          74  28.0   \n",
       "4          17.3          4          89.0        62.0  13          81  37.7   \n",
       "\n",
       "   origin  weight       car0     car0_1  \n",
       "0       1  2525.0  22.144444  27.400000  \n",
       "1       2  1925.0  36.450000  34.133333  \n",
       "2       3  2930.0  30.130769  19.500000  \n",
       "3       1  2125.0  22.144444  27.000000  \n",
       "4       3  2050.0  30.130769  37.700000  "
      ]
     },
     "execution_count": 95,
     "metadata": {},
     "output_type": "execute_result"
    }
   ],
   "source": [
    "df_name='df_car_target_1.csv'\n",
    "sub_name='sub_car_target_1.csv'\n",
    "df=pd.read_csv(df_name)\n",
    "folds_num=10\n",
    "df.head()"
   ]
  },
  {
   "cell_type": "code",
   "execution_count": 96,
   "metadata": {},
   "outputs": [],
   "source": [
    "def display_importances(feature_importance_df_):\n",
    "    cols = feature_importance_df_[[\"feature\", \"importance\"]].groupby(\"feature\").mean().sort_values(by=\"importance\", ascending=False)[:40].index\n",
    "    best_features = feature_importance_df_.loc[feature_importance_df_.feature.isin(cols)]\n",
    "    plt.figure(figsize=(8, 10))\n",
    "    sns.barplot(x=\"importance\", y=\"feature\", data=best_features.sort_values(by=\"importance\", ascending=False))\n",
    "    plt.title('LightGBM Features (avg over folds)')\n",
    "    plt.tight_layout()\n",
    "    plt.savefig('lgbm_importances01.png')"
   ]
  },
  {
   "cell_type": "code",
   "execution_count": 97,
   "metadata": {},
   "outputs": [],
   "source": [
    "train_df=df[df['mpg'].notnull()]\n",
    "test_df=df[df['mpg'].isnull()]\n",
    "feats=[f for f in train_df.columns if f not in ['id','mpg']]"
   ]
  },
  {
   "cell_type": "code",
   "execution_count": 98,
   "metadata": {},
   "outputs": [
    {
     "data": {
      "text/plain": [
       "1.6374420198003428"
      ]
     },
     "execution_count": 98,
     "metadata": {},
     "output_type": "execute_result"
    }
   ],
   "source": [
    "score=np.empty(folds_num)\n",
    "feature_importance_df = pd.DataFrame()\n",
    "folds=KFold(n_splits=folds_num,shuffle=True,random_state=0)\n",
    "for n_fold, (train_idx, valid_idx) in enumerate(folds.split(train_df[feats],train_df['mpg'])):\n",
    "    train_X,train_y=train_df[feats].iloc[train_idx],train_df['mpg'].iloc[train_idx]\n",
    "    valid_X,valid_y=train_df[feats].iloc[valid_idx],train_df['mpg'].iloc[valid_idx]\n",
    "    \n",
    "    gbm_reg=lgb.LGBMRegressor(objective='regression',\n",
    "                         num_leaves=31,\n",
    "                         n_estimators=100)\n",
    "    gbm_reg.fit(train_X,train_y,\n",
    "               verbose=0)\n",
    "    pred_y=gbm_reg.predict(valid_X)\n",
    "    score[n_fold]=mean_absolute_error(pred_y,valid_y)\n",
    "    fold_importance_df = pd.DataFrame()\n",
    "    fold_importance_df[\"feature\"] = feats\n",
    "    fold_importance_df[\"importance\"] = gbm_reg.feature_importances_\n",
    "    fold_importance_df[\"fold\"] = n_fold + 1\n",
    "    feature_importance_df = pd.concat([feature_importance_df, fold_importance_df], axis=0)\n",
    "score.mean()"
   ]
  },
  {
   "cell_type": "code",
   "execution_count": 99,
   "metadata": {},
   "outputs": [
    {
     "data": {
      "image/png": "[encoded data removed]",
      "text/plain": [
       "<matplotlib.figure.Figure at 0xf3c72b0>"
      ]
     },
     "metadata": {},
     "output_type": "display_data"
    }
   ],
   "source": [
    "display_importances(feature_importance_df)"
   ]
  },
  {
   "cell_type": "code",
   "execution_count": 100,
   "metadata": {},
   "outputs": [],
   "source": [
    "#submit\n",
    "train_X,train_y=train_df[feats],train_df['mpg']\n",
    "test_X=test_df[feats]\n",
    "gbm_reg=lgb.LGBMRegressor(objective='regression',\n",
    "                     num_leaves=31,\n",
    "                     n_estimators=100)\n",
    "gbm_reg.fit(train_X,train_y,\n",
    "           verbose=0)\n",
    "pred_sub=gbm_reg.predict(test_X)\n",
    "sub=pd.DataFrame(test_df['id'])\n",
    "sub['mpg']=pred_sub\n",
    "sub.to_csv(sub_name,header=False,index=False)"
   ]
  },
  {
   "cell_type": "code",
   "execution_count": 87,
   "metadata": {},
   "outputs": [
    {
     "data": {
      "text/plain": [
       "199"
      ]
     },
     "execution_count": 87,
     "metadata": {},
     "output_type": "execute_result"
    }
   ],
   "source": []
  },
  {
   "cell_type": "code",
   "execution_count": null,
   "metadata": {},
   "outputs": [],
   "source": []
  }
 ],
 "metadata": {
  "kernelspec": {
   "display_name": "Python 3",
   "language": "python",
   "name": "python3"
  },
  "language_info": {
   "codemirror_mode": {
    "name": "ipython",
    "version": 3
   },
   "file_extension": ".py",
   "mimetype": "text/x-python",
   "name": "python",
   "nbconvert_exporter": "python",
   "pygments_lexer": "ipython3",
   "version": "3.6.4"
  }
 },
 "nbformat": 4,
 "nbformat_minor": 2
}
